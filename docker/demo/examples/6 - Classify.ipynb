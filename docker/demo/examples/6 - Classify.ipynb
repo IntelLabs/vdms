{
 "cells": [
  {
   "cell_type": "markdown",
   "metadata": {},
   "source": [
    "# Run Classification on the Fly\n",
    "\n",
    "VDMS supports classification on-the-fly as part of its query API.\n",
    "This can be used to run fast classification based on feature vector matching. \n",
    "\n",
    "In this example, where we have a pre-load set of feature vectors and labels associated, \n",
    "we can classify the face of a new image.\n",
    "\n",
    "We will start by taking a new image, not seeing by VDMS before (FIX THIS), \n",
    "find the faces on it, and run feature vector extraction."
   ]
  },
  {
   "cell_type": "code",
   "execution_count": null,
   "metadata": {},
   "outputs": [],
   "source": [
    "import getDescriptors as g\n",
    "\n",
    "imagePath = \"images/1.jpg\"\n",
    "descriptors = g.get_descriptors(imagePath)"
   ]
  },
  {
   "cell_type": "markdown",
   "metadata": {},
   "source": [
    "Now that we have the new faces and its feature vectors, we can ask VDMS to classify a new face.\n",
    "\n",
    "But first, let's connect to VDMS:"
   ]
  },
  {
   "cell_type": "code",
   "execution_count": null,
   "metadata": {},
   "outputs": [],
   "source": [
    "import vdms\n",
    "\n",
    "db = vdms.vdms()\n",
    "db.connect(\"localhost\")"
   ]
  },
  {
   "cell_type": "markdown",
   "metadata": {},
   "source": [
    "We can now classify the different faces, by passing the descriptor of the face to VDMS as follows:"
   ]
  },
  {
   "cell_type": "code",
   "execution_count": null,
   "metadata": {},
   "outputs": [],
   "source": [
    "who_is_this = descriptors[1]\n",
    "\n",
    "blob_array = []\n",
    "blob_array.append(who_is_this)\n",
    "\n",
    "query = \"\"\"\n",
    "[\n",
    "   {\n",
    "      \"ClassifyDescriptor\" : {\n",
    "         \"set\": \"hike_mt_rainier\", \n",
    "         \"k_neighbors\": 1\n",
    "      }\n",
    "   }\n",
    "]\n",
    "\"\"\"\n",
    "\n",
    "response, images = db.query(query, [blob_array])\n",
    "print (db.get_last_response_str())"
   ]
  },
  {
   "cell_type": "code",
   "execution_count": null,
   "metadata": {},
   "outputs": [],
   "source": []
  }
 ],
 "metadata": {
  "kernelspec": {
   "display_name": "Python 3",
   "language": "python",
   "name": "python3"
  },
  "language_info": {
   "codemirror_mode": {
    "name": "ipython",
    "version": 3
   },
   "file_extension": ".py",
   "mimetype": "text/x-python",
   "name": "python",
   "nbconvert_exporter": "python",
   "pygments_lexer": "ipython3",
   "version": "3.5.2"
  }
 },
 "nbformat": 4,
 "nbformat_minor": 2
}
