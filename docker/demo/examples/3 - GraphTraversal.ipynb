{
 "cells": [
  {
   "cell_type": "markdown",
   "metadata": {},
   "source": [
    "# Simple Graph Traversal\n",
    "\n",
    "As a first example, and to get familiar with VDMS API, we will do a simple query \n",
    "that request information about a Hike and the people linked to that hike.\n",
    "\n",
    "The first step is to import vdms client module, and connect to the VDMS instance running.\n"
   ]
  },
  {
   "cell_type": "code",
   "execution_count": null,
   "metadata": {},
   "outputs": [],
   "source": [
    "import vdms\n",
    "\n",
    "db = vdms.vdms()\n",
    "db.connect(\"localhost\")"
   ]
  },
  {
   "cell_type": "markdown",
   "metadata": {},
   "source": [
    "Now, we can write a query, using VDMS JSON API.\n",
    "**Note** that even if here we are writing the query as a string, \n",
    "this is for display purposes only. We can use Python diccionaries as well. "
   ]
  },
  {
   "cell_type": "code",
   "execution_count": null,
   "metadata": {},
   "outputs": [],
   "source": [
    "query = \"\"\"\n",
    "[ \n",
    "   {\n",
    "      \"FindEntity\" : {\n",
    "         \"class\" : \"Hike\", \n",
    "         \"_ref\": 2,\n",
    "         \"results\" : {\n",
    "            \"list\" : [ \"place\", \"id\", \"type\"]\n",
    "         }\n",
    "      }\n",
    "   },\n",
    "   {\n",
    "      \"FindEntity\" : {\n",
    "         \"class\" : \"Person\", \n",
    "         \"link\" : { \"ref\": 2},\n",
    "         \"results\" : {\n",
    "            \"list\" : [ \"name\"]\n",
    "         }\n",
    "      }\n",
    "   }\n",
    "]   \n",
    "\"\"\""
   ]
  },
  {
   "cell_type": "markdown",
   "metadata": {},
   "source": [
    "Now, we can send the query to VDMS, and print the result:"
   ]
  },
  {
   "cell_type": "code",
   "execution_count": null,
   "metadata": {},
   "outputs": [],
   "source": [
    "response, images = db.query(query)\n",
    "print (db.get_last_response_str())"
   ]
  },
  {
   "cell_type": "markdown",
   "metadata": {},
   "source": [
    "Now lets run a similar example, but let's include the retrieval of images as well. "
   ]
  },
  {
   "cell_type": "code",
   "execution_count": null,
   "metadata": {},
   "outputs": [],
   "source": [
    "%%javascript\n",
    "IPython.OutputArea.prototype._should_scroll = function(lines) {\n",
    "    return false;\n",
    "}"
   ]
  },
  {
   "cell_type": "code",
   "execution_count": null,
   "metadata": {},
   "outputs": [],
   "source": [
    "import vdms\n",
    "import util\n",
    "\n",
    "db = vdms.vdms()\n",
    "db.connect(\"localhost\")\n",
    "\n",
    "query = \"\"\"\n",
    "[ \n",
    "   {\n",
    "      \"FindEntity\" : {\n",
    "         \"class\" : \"Hike\", \n",
    "         \"_ref\": 2,\n",
    "         \"results\" : {\n",
    "            \"list\" : [ \"place\", \"id\", \"type\"]\n",
    "         }\n",
    "      }\n",
    "   },\n",
    "   {\n",
    "      \"FindEntity\" : {\n",
    "         \"class\" : \"Person\", \n",
    "         \"_ref\": 34,\n",
    "         \"link\" : { \"ref\": 2},\n",
    "         \"results\" : {\n",
    "            \"list\" : [ \"name\", \"lastname\"]\n",
    "         }\n",
    "      }\n",
    "   }, \n",
    "   {\n",
    "      \"FindImage\" : {\n",
    "         \"link\" : { \"ref\": 34, \"class\": \"profile_pic\"},\n",
    "         \"operations\": [\n",
    "             {\n",
    "                 \"type\": \"resize\",\n",
    "                 \"height\": 300,\n",
    "                 \"width\": 300\n",
    "             }\n",
    "         ]\n",
    "      }\n",
    "   }\n",
    "]   \n",
    "\"\"\"\n",
    "\n",
    "response, images = db.query(query)\n",
    "# print (db.get_last_response_str())\n",
    "\n",
    "util.display_images(images)    \n",
    "print (\"Number of images:\", len(images))"
   ]
  },
  {
   "cell_type": "code",
   "execution_count": null,
   "metadata": {},
   "outputs": [],
   "source": []
  },
  {
   "cell_type": "code",
   "execution_count": null,
   "metadata": {},
   "outputs": [],
   "source": []
  },
  {
   "cell_type": "code",
   "execution_count": null,
   "metadata": {},
   "outputs": [],
   "source": []
  }
 ],
 "metadata": {
  "kernelspec": {
   "display_name": "Python 3",
   "language": "python",
   "name": "python3"
  },
  "language_info": {
   "codemirror_mode": {
    "name": "ipython",
    "version": 3
   },
   "file_extension": ".py",
   "mimetype": "text/x-python",
   "name": "python",
   "nbconvert_exporter": "python",
   "pygments_lexer": "ipython3",
   "version": "3.5.2"
  }
 },
 "nbformat": 4,
 "nbformat_minor": 2
}
