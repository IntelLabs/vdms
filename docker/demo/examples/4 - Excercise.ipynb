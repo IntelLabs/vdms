{
 "cells": [
  {
   "cell_type": "markdown",
   "metadata": {},
   "source": [
    "# Excercise:\n",
    "\n",
    "### Find all the people that did a hike with \"tom\"\n",
    "\n",
    "This is similar to the graph traversal query we saw before.\n",
    "\n",
    "Since we know the schema, we know that \"tom\" is linked to a \"Hike\" entity, \n",
    "and that all the people that was part of that \"Hike\" is also linked to the Hike.\n",
    "\n",
    "Hence, to find all the people that participated in a hike with \"tom\":\n",
    "\n",
    "\n",
    "    1) We find the entity corresponding to \"tom\"\n",
    "    2) We find all the hikes linked to tom\n",
    "    3) We find all the people linked to those hikes. \n",
    "\n",
    "The first step is to import vdms client module, and connect to the VDMS instance running.\n"
   ]
  },
  {
   "cell_type": "code",
   "execution_count": null,
   "metadata": {},
   "outputs": [],
   "source": [
    "import vdms\n",
    "\n",
    "db = vdms.vdms()\n",
    "db.connect(\"localhost\")"
   ]
  },
  {
   "cell_type": "markdown",
   "metadata": {},
   "source": [
    "Let's start by finding the entity corresponding to tom"
   ]
  },
  {
   "cell_type": "code",
   "execution_count": null,
   "metadata": {},
   "outputs": [],
   "source": [
    "query = \"\"\"\n",
    "[ \n",
    "   {\n",
    "      \"FindEntity\" : {\n",
    "      \n",
    "        ## COMPLETE THIS COMMAND TO FIND TOM\n",
    "        \n",
    "      }\n",
    "   }\n",
    "]   \n",
    "\"\"\"\n",
    "\n",
    "response, images = db.query(query)\n",
    "print (db.get_last_response_str())"
   ]
  },
  {
   "cell_type": "markdown",
   "metadata": {},
   "source": [
    "Now that we have the entity corresponding to \"tom\", let's find the hikes where he participated.\n",
    "\n",
    "**Hint**: We can use the _ref and the link block."
   ]
  },
  {
   "cell_type": "code",
   "execution_count": null,
   "metadata": {},
   "outputs": [],
   "source": [
    "query = \"\"\"\n",
    "[ \n",
    "   {\n",
    "      \"FindEntity\" : {\n",
    "        ## COMPLETE THIS COMMAND TO FIND TOM\n",
    "      }\n",
    "   }, \n",
    "   {\n",
    "      \"FindEntity\" : {\n",
    "        ## COMPLETE THIS COMMAND TO FIND HIKES\n",
    "      }\n",
    "   }\n",
    "]   \n",
    "\"\"\"\n",
    "\n",
    "response, images = db.query(query)\n",
    "print (db.get_last_response_str())"
   ]
  },
  {
   "cell_type": "markdown",
   "metadata": {},
   "source": [
    "Now that we have the hikes, we can check all the people that participated on those hikes. "
   ]
  },
  {
   "cell_type": "code",
   "execution_count": null,
   "metadata": {},
   "outputs": [],
   "source": [
    "query = \"\"\"\n",
    "[ \n",
    "   {\n",
    "      \"FindEntity\" : {\n",
    "        ## COMPLETE THIS COMMAND TO FIND TOM\n",
    "      }\n",
    "   }, \n",
    "   {\n",
    "      \"FindEntity\" : {\n",
    "        ## COMPLETE THIS COMMAND TO FIND HIKES\n",
    "      }\n",
    "   }, \n",
    "   {\n",
    "      \"FindEntity\" : {\n",
    "        ## COMPLETE THIS COMMAND TO FIND PEOPLE LINKED TO THOSE HIKES\n",
    "      }\n",
    "   }\n",
    "]   \n",
    "\"\"\"\n",
    "\n",
    "response, images = db.query(query)\n",
    "print (db.get_last_response_str())"
   ]
  },
  {
   "cell_type": "markdown",
   "metadata": {},
   "source": [
    "The response you get should look something like:\n",
    "\n",
    "    [\n",
    "    {\n",
    "        \"FindEntity\": {\n",
    "            \"returned\": 1,\n",
    "            \"entities\": [\n",
    "                {\n",
    "                    \"name\": \"tom\"\n",
    "                }\n",
    "            ],\n",
    "            \"status\": 0\n",
    "        }\n",
    "    },\n",
    "    {\n",
    "        \"FindEntity\": {\n",
    "            \"returned\": 1,\n",
    "            \"entities\": [\n",
    "                {\n",
    "                    \"place\": \"Mt Rainier\"\n",
    "                }\n",
    "            ],\n",
    "            \"status\": 0\n",
    "        }\n",
    "    },\n",
    "    {\n",
    "        \"FindEntity\": {\n",
    "            \"returned\": 5,\n",
    "            \"entities\": [\n",
    "                {\n",
    "                    \"lastname\": \"Simer\",\n",
    "                    \"name\": \"luis\"\n",
    "                },\n",
    "                {\n",
    "                    \"lastname\": \"Ferdinand\",\n",
    "                    \"name\": \"sofi\"\n",
    "                },\n",
    "                {\n",
    "                    \"lastname\": \"Teixeira\",\n",
    "                    \"name\": \"Thiago\"\n",
    "                },\n",
    "                {\n",
    "                    \"lastname\": \"Ille\",\n",
    "                    \"name\": \"sol\"\n",
    "                }\n",
    "            ],\n",
    "            \"status\": 0\n",
    "        }\n",
    "    }\n",
    "    ]\n"
   ]
  },
  {
   "cell_type": "markdown",
   "metadata": {},
   "source": [
    "### Extra Credit:\n",
    "\n",
    "Find all the profile pictures of the people on those hikes."
   ]
  },
  {
   "cell_type": "code",
   "execution_count": null,
   "metadata": {},
   "outputs": [],
   "source": [
    "query = \"\"\"\n",
    "[ \n",
    "   {\n",
    "      \"FindEntity\" : {\n",
    "        ## COMPLETE THIS COMMAND TO FIND TOM\n",
    "      }\n",
    "   }, \n",
    "   {\n",
    "      \"FindEntity\" : {\n",
    "        ## COMPLETE THIS COMMAND TO FIND HIKES\n",
    "      }\n",
    "   }, \n",
    "   {\n",
    "      \"FindEntity\" : {\n",
    "        ## COMPLETE THIS COMMAND TO FIND PEOPLE LINKED TO THOSE HIKES\n",
    "      }\n",
    "   },\n",
    "   {\n",
    "      \"FindImage\" : {\n",
    "        ## COMPLETE THIS COMMAND TO FIND PROFILE IMAGES LINKED TO THOSE PEOPLE\n",
    "      }\n",
    "   }\n",
    "]   \n",
    "\"\"\"\n",
    "\n",
    "response, images = db.query(query)\n",
    "print (db.get_last_response_str())"
   ]
  },
  {
   "cell_type": "code",
   "execution_count": null,
   "metadata": {},
   "outputs": [],
   "source": []
  },
  {
   "cell_type": "code",
   "execution_count": null,
   "metadata": {},
   "outputs": [],
   "source": []
  },
  {
   "cell_type": "code",
   "execution_count": null,
   "metadata": {},
   "outputs": [],
   "source": []
  }
 ],
 "metadata": {
  "kernelspec": {
   "display_name": "Python 3",
   "language": "python",
   "name": "python3"
  },
  "language_info": {
   "codemirror_mode": {
    "name": "ipython",
    "version": 3
   },
   "file_extension": ".py",
   "mimetype": "text/x-python",
   "name": "python",
   "nbconvert_exporter": "python",
   "pygments_lexer": "ipython3",
   "version": "3.5.2"
  }
 },
 "nbformat": 4,
 "nbformat_minor": 2
}
