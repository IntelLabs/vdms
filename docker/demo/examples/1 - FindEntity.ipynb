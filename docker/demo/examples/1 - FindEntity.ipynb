{
 "cells": [
  {
   "cell_type": "markdown",
   "metadata": {},
   "source": [
    "# FindEntity\n",
    "\n",
    "In our first example, we will query information already existing in the database.\n",
    "\n",
    "First, we will start by connecting to the VDMS instance:"
   ]
  },
  {
   "cell_type": "code",
   "execution_count": null,
   "metadata": {},
   "outputs": [],
   "source": [
    "import vdms\n",
    "\n",
    "db = vdms.vdms()\n",
    "db.connect(\"localhost\")"
   ]
  },
  {
   "cell_type": "markdown",
   "metadata": {},
   "source": [
    "With the connection open, we can write a query and sent it to VDMS. \n",
    "\n",
    "We will use the \"FindEntity\" command first to query VDMS about the Entities of the class \"Person\" present in VDMS:"
   ]
  },
  {
   "cell_type": "code",
   "execution_count": null,
   "metadata": {},
   "outputs": [],
   "source": [
    "query = \"\"\"\n",
    "[\n",
    "   {\n",
    "      \"FindEntity\" : {\n",
    "         \"class\" : \"Person\", \n",
    "\n",
    "         \"results\" : {\n",
    "            \"list\" : [ \"name\", \"lastname\"]\n",
    "         }\n",
    "      }\n",
    "   }\n",
    "]   \n",
    "\"\"\"\n",
    "\n",
    "response, images = db.query(query)\n",
    "print (db.get_last_response_str())"
   ]
  },
  {
   "cell_type": "markdown",
   "metadata": {},
   "source": [
    "We are using plain strings here, but we can use python dictionaries to write the same query:"
   ]
  },
  {
   "cell_type": "code",
   "execution_count": null,
   "metadata": {},
   "outputs": [],
   "source": [
    "findEntity = {}\n",
    "findEntity[\"class\"] = \"Person\"\n",
    "\n",
    "results = {}\n",
    "results[\"list\"] = [\"name\"]\n",
    "\n",
    "findEntity[\"results\"] = results\n",
    "\n",
    "query = {}\n",
    "query[\"FindEntity\"] = findEntity\n",
    "\n",
    "response, images = db.query([query])\n",
    "print (db.get_last_response_str())"
   ]
  },
  {
   "cell_type": "code",
   "execution_count": null,
   "metadata": {},
   "outputs": [],
   "source": []
  }
 ],
 "metadata": {
  "kernelspec": {
   "display_name": "Python 3",
   "language": "python",
   "name": "python3"
  },
  "language_info": {
   "codemirror_mode": {
    "name": "ipython",
    "version": 3
   },
   "file_extension": ".py",
   "mimetype": "text/x-python",
   "name": "python",
   "nbconvert_exporter": "python",
   "pygments_lexer": "ipython3",
   "version": "3.5.2"
  }
 },
 "nbformat": 4,
 "nbformat_minor": 2
}
