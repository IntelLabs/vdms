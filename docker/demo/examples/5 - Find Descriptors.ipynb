{
 "cells": [
  {
   "cell_type": "markdown",
   "metadata": {},
   "source": [
    "# Find Descriptors (Matching)\n",
    "\n",
    "Similar to classification, VDMS supports feature vector search based on similariy matching as part of its API.\n",
    "\n",
    "In this example, where we have a pre-load set of feature vectors and labels associated, \n",
    "we can search for similar feature vectors, and query information related to it.\n",
    "\n",
    "We will start by taking a new image, not seeing by VDMS before (FIX THIS), \n",
    "find the faces on it, and run feature vector extraction, and finding images related to it:\n"
   ]
  },
  {
   "cell_type": "code",
   "execution_count": null,
   "metadata": {},
   "outputs": [],
   "source": [
    "import getDescriptors as g\n",
    "\n",
    "imagePath = \"images/1.jpg\"\n",
    "descriptors = g.get_descriptors(imagePath)"
   ]
  },
  {
   "cell_type": "markdown",
   "metadata": {},
   "source": [
    "Now that we have the new faces and its feature vectors, we can ask VDMS to return the similar descriptors.\n",
    "\n",
    "But first, let's connect to VDMS:"
   ]
  },
  {
   "cell_type": "code",
   "execution_count": null,
   "metadata": {},
   "outputs": [],
   "source": [
    "import vdms\n",
    "\n",
    "db = vdms.vdms()\n",
    "db.connect(\"localhost\")"
   ]
  },
  {
   "cell_type": "markdown",
   "metadata": {},
   "source": [
    "We can now search for similar descriptors by passing the descriptor of the face to VDMS as follows:"
   ]
  },
  {
   "cell_type": "code",
   "execution_count": null,
   "metadata": {},
   "outputs": [],
   "source": [
    "import numpy as np\n",
    "import json\n",
    "import util\n",
    "\n",
    "who_is_this = descriptors[1] # Number 1 is Tom's face\n",
    "\n",
    "blob_array = []\n",
    "\n",
    "query = \"\"\"\n",
    "[\n",
    "   {\n",
    "      \"FindDescriptor\" : {\n",
    "         \"set\": \"hike_mt_rainier\", \n",
    "         \"_ref\": 33, \n",
    "         \"k_neighbors\": 4, \n",
    "         \"results\": {\n",
    "             \"list\": [\"_distance\", \"_id\", \"_label\"] \n",
    "         }\n",
    "      }\n",
    "   }\n",
    "]\n",
    "\"\"\"\n",
    "\n",
    "blob_array.append(who_is_this)\n",
    "\n",
    "response, images = db.query(query, [blob_array])\n",
    "print (db.get_last_response_str())"
   ]
  },
  {
   "cell_type": "markdown",
   "metadata": {},
   "source": [
    "Now that we can see this similar descriptors, let's go one step further and retrieve the images asociated with those descriptors:  "
   ]
  },
  {
   "cell_type": "code",
   "execution_count": null,
   "metadata": {},
   "outputs": [],
   "source": [
    "blob_array = []\n",
    "\n",
    "query = \"\"\"\n",
    "[\n",
    "   {\n",
    "      \"FindDescriptor\" : {\n",
    "         \"set\": \"hike_mt_rainier\", \n",
    "         \"_ref\": 33, \n",
    "         \"k_neighbors\": 5, \n",
    "         \"results\": {\n",
    "             \"list\": [\"_distance\", \"_id\"] \n",
    "         }\n",
    "      }\n",
    "   },\n",
    "   {\n",
    "      \"FindImage\" : {\n",
    "         \"link\":  { \"ref\": 33 }, \n",
    "         \"operations\": [\n",
    "             {\n",
    "                 \"type\": \"resize\",\n",
    "                 \"height\": 200,\n",
    "                 \"width\": 200\n",
    "             }\n",
    "         ],\n",
    "\n",
    "         \"results\": {\n",
    "             \"list\": [\"name_file\"]\n",
    "         }\n",
    "      }\n",
    "   }\n",
    "]\n",
    "\"\"\"\n",
    "\n",
    "blob_array.append(who_is_this)\n",
    "\n",
    "response, images = db.query(query, [blob_array])\n",
    "\n",
    "util.display_images(images)\n",
    "    \n",
    "print (\"Number of images:\", len(images))\n"
   ]
  },
  {
   "cell_type": "code",
   "execution_count": null,
   "metadata": {},
   "outputs": [],
   "source": [
    "%%javascript\n",
    "IPython.OutputArea.prototype._should_scroll = function(lines) {\n",
    "    return false;\n",
    "}"
   ]
  },
  {
   "cell_type": "code",
   "execution_count": null,
   "metadata": {},
   "outputs": [],
   "source": [
    "import vdms\n",
    "import numpy as np\n",
    "import json\n",
    "\n",
    "db = vdms.vdms()\n",
    "db.connect(\"localhost\")\n",
    "\n",
    "who_is_this = descriptors[1]\n",
    "\n",
    "blob_array = []\n",
    "\n",
    "query = \"\"\"\n",
    "[\n",
    "   {\n",
    "      \"FindDescriptor\" : {\n",
    "         \"set\": \"hike_mt_rainier\", \n",
    "         \"_ref\": 33, \n",
    "         \"k_neighbors\": 1, \n",
    "         \"results\": {\n",
    "             \"list\": [\"_distance\", \"_id\"] \n",
    "         }\n",
    "      }\n",
    "   }, \n",
    "   {\n",
    "      \"FindEntity\" : {\n",
    "         \"class\": \"Person\", \n",
    "         \"link\":  { \"ref\": 33 },\n",
    "         \"_ref\": 34,\n",
    "         \"results\": {\n",
    "             \"list\": [\"name\", \"lastname\"]\n",
    "         }\n",
    "      }\n",
    "   },\n",
    "   {\n",
    "      \"FindImage\" : {\n",
    "         \"link\":  { \"ref\": 34 }, \n",
    "         \"operations\": [\n",
    "             {\n",
    "                 \"type\": \"resize\",\n",
    "                 \"height\": 300,\n",
    "                 \"width\": 300\n",
    "             }\n",
    "         ],\n",
    "\n",
    "         \"results\": {\n",
    "             \"list\": [\"name_file\"]\n",
    "         }\n",
    "      }\n",
    "   }\n",
    "]\n",
    "\"\"\"\n",
    "\n",
    "blob_array.append(who_is_this)\n",
    "\n",
    "response, images = db.query(query, [blob_array])\n",
    "\n",
    "util.display_images(images)    \n",
    "print (\"Number of images:\", len(images))\n"
   ]
  },
  {
   "cell_type": "code",
   "execution_count": null,
   "metadata": {},
   "outputs": [],
   "source": []
  }
 ],
 "metadata": {
  "kernelspec": {
   "display_name": "Python 3",
   "language": "python",
   "name": "python3"
  },
  "language_info": {
   "codemirror_mode": {
    "name": "ipython",
    "version": 3
   },
   "file_extension": ".py",
   "mimetype": "text/x-python",
   "name": "python",
   "nbconvert_exporter": "python",
   "pygments_lexer": "ipython3",
   "version": "3.5.2"
  }
 },
 "nbformat": 4,
 "nbformat_minor": 2
}
