{
 "cells": [
  {
   "cell_type": "markdown",
   "metadata": {},
   "source": [
    "# Adding Entities to VDMS\n",
    "\n",
    "Now that we know how to retrieve information from VDMS, let's take a look at an example where we can insert new information and query that information back.\n",
    "\n",
    "We will start by connecting to the VDMS instance, and use the \"AddEntity\" command."
   ]
  },
  {
   "cell_type": "code",
   "execution_count": null,
   "metadata": {},
   "outputs": [],
   "source": [
    "import vdms\n",
    "\n",
    "db = vdms.vdms()\n",
    "db.connect(\"localhost\")"
   ]
  },
  {
   "cell_type": "code",
   "execution_count": null,
   "metadata": {},
   "outputs": [],
   "source": [
    "query = \"\"\"\n",
    "[\n",
    "   {\n",
    "      \"AddEntity\" : {\n",
    "         \"class\" : \"Person\", \n",
    "         \"properties\" : {\n",
    "            \"name\": \"Regina\", \n",
    "            \"lastname\": \"George\"\n",
    "         }\n",
    "      }\n",
    "   }\n",
    "]   \n",
    "\"\"\"\n",
    "\n",
    "response, images = db.query(query)\n",
    "print (db.get_last_response_str())"
   ]
  },
  {
   "cell_type": "markdown",
   "metadata": {},
   "source": [
    "Now we can query and make sure that VDMS actually stored that new data:"
   ]
  },
  {
   "cell_type": "code",
   "execution_count": null,
   "metadata": {},
   "outputs": [],
   "source": [
    "query = \"\"\"\n",
    "[\n",
    "   {\n",
    "      \"FindEntity\" : {\n",
    "         \"class\" : \"Person\", \n",
    "         \"constraints\": {\n",
    "             \"name\": [\"==\", \"Regina\"]\n",
    "         },\n",
    "\n",
    "         \"results\" : {\n",
    "             \"list\" : [ \"name\"]\n",
    "         }\n",
    "      }\n",
    "   }\n",
    "]   \n",
    "\"\"\"\n",
    "\n",
    "response, images = db.query(query)\n",
    "print (db.get_last_response_str())"
   ]
  },
  {
   "cell_type": "code",
   "execution_count": null,
   "metadata": {},
   "outputs": [],
   "source": []
  }
 ],
 "metadata": {
  "kernelspec": {
   "display_name": "Python 3",
   "language": "python",
   "name": "python3"
  },
  "language_info": {
   "codemirror_mode": {
    "name": "ipython",
    "version": 3
   },
   "file_extension": ".py",
   "mimetype": "text/x-python",
   "name": "python",
   "nbconvert_exporter": "python",
   "pygments_lexer": "ipython3",
   "version": "3.5.2"
  }
 },
 "nbformat": 4,
 "nbformat_minor": 2
}
